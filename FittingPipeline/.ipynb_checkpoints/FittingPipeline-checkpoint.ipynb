{
 "cells": [
  {
   "cell_type": "code",
   "execution_count": 1,
   "id": "da029c7b-3369-49fb-8e5b-f1917c35a7e1",
   "metadata": {},
   "outputs": [],
   "source": [
    "import os \n",
    "import sys\n",
    "from read_input import read_input_file\n",
    "from BreakAnnuli import break_annuli\n",
    "from Fits import Fitting\n",
    "from Fits_Deprojected import Fitting_Deprojected\n",
    "from Plots import plot_data, plot_data_deproj\n",
    "from diffuse_specextract_blank import main_extract\n",
    "from tqdm import tqdm\n",
    "import numpy as np"
   ]
  },
  {
   "cell_type": "code",
   "execution_count": 2,
   "id": "52f95ffb-0a93-4684-b928-55915c3c0ae8",
   "metadata": {},
   "outputs": [],
   "source": [
    "homeDir = '/home/crhea/Documents/PKS0745'  # Path to reprocessed directory\n",
    "ObsIDs = ['12881', '2427']  #,'1383','1509','2427','6103','12881']#,'19572','19573','19574','19574']  # List of ObsIDs\n",
    "outputDir = homeDir  # Path to output directory\n",
    "regionFileName = 'cluster.reg'  # Name of ds9 region file\n",
    "numRegions = 2  # Number of regions you want to create\n",
    "deproj = True  # Boolean to calculate deprojected profiles,"
   ]
  },
  {
   "cell_type": "markdown",
   "id": "38d0ba94-1594-466a-ae2c-22f3ba104eb7",
   "metadata": {},
   "source": [
    "Now in your homeDir you will have your annuli regions! Finally we can make our fits after defining the rest of the parameters."
   ]
  },
  {
   "cell_type": "code",
   "execution_count": 3,
   "id": "0a4f6379-adc3-46cf-8bed-3ec1ffc4a1ef",
   "metadata": {},
   "outputs": [],
   "source": [
    "redshift = 0.1028\n",
    "n_H = 0.4028\n"
   ]
  },
  {
   "cell_type": "code",
   "execution_count": 4,
   "id": "3c23f5eb-390e-411a-8706-3771c237d135",
   "metadata": {},
   "outputs": [
    {
     "name": "stdout",
     "output_type": "stream",
     "text": [
      "Loading spectrum file 12881/repro/annulus_0.pi  as dataset id 0\n",
      "Loading spectrum file 2427/repro/annulus_0.pi  as dataset id 1\n",
      "Loading spectrum file 12881/repro/annulus_1.pi  as dataset id 2\n",
      "Loading spectrum file 2427/repro/annulus_1.pi  as dataset id 3\n",
      "Setting source model for dataset 0 = 0.08779149519890261 * xsphabs_0*xsapec_0 + 0.1933515039239976 * xsphabs_1*xsapec_1\n",
      "Setting source model for dataset 1 = 0.08779149519890261 * xsphabs_0*xsapec_0 + 0.1933515039239976 * xsphabs_1*xsapec_1\n",
      "Setting source model for dataset 2 = 0.7188570008770998 * xsphabs_1*xsapec_1\n",
      "Setting source model for dataset 3 = 0.7188570008770998 * xsphabs_1*xsapec_1\n",
      "Freezing xsphabs_0.nh\n",
      "Freezing xsphabs_1.nh\n",
      "Setting xsapec_0.redshift=0.1028\n",
      "Setting xsapec_1.redshift=0.1028\n",
      "Setting xsphabs_0.nh=0.4028\n",
      "Setting xsphabs_1.nh=0.4028\n",
      "Setting xsapec_0.Abundanc=0.3\n",
      "Setting xsapec_1.Abundanc=0.3\n",
      "Thawing xsapec_0.Abundanc\n",
      "Thawing xsapec_1.Abundanc\n",
      "Fitting annulus 1  datasets: [2, 3]\n",
      "Reading APEC data from 3.0.9\n",
      "\n",
      "Freezing xsphabs_1\n",
      "Freezing xsapec_1\n",
      "Fitting annulus 0  datasets: [0, 1]\n",
      "Freezing xsphabs_0\n",
      "Freezing xsapec_0\n",
      "Thawing xsapec_0.kT\n",
      "Thawing xsapec_0.Abundanc\n",
      "Thawing xsapec_0.norm\n",
      "Thawing xsapec_1.kT\n",
      "Thawing xsapec_1.Abundanc\n",
      "Thawing xsapec_1.norm\n",
      "Confidence for annulus 1  datasets: [2, 3]\n",
      "Freezing xsphabs_1\n",
      "Freezing xsapec_1\n",
      "Confidence for annulus 0  datasets: [0, 1]\n",
      "Freezing xsphabs_0\n",
      "Freezing xsapec_0\n",
      "Thawing xsapec_0.kT\n",
      "Thawing xsapec_0.Abundanc\n",
      "Thawing xsapec_0.norm\n",
      "Thawing xsapec_1.kT\n",
      "Thawing xsapec_1.Abundanc\n",
      "Thawing xsapec_1.norm\n",
      "annulus      rlo_ang      ...       density_lo             density_hi     \n",
      "              arcsec      ...        1 / cm3                1 / cm3       \n",
      "------- ----------------- ... ---------------------- ---------------------\n",
      "      0               0.0 ...  -0.014438472854138917  0.015806004965651245\n",
      "      1 3.839254747283036 ... -0.0015845261935365645 0.0015034249220122892\n"
     ]
    },
    {
     "ename": "ValueError",
     "evalue": "could not convert string to float: '\\n'",
     "output_type": "error",
     "traceback": [
      "\u001b[0;31m---------------------------------------------------------------------------\u001b[0m",
      "\u001b[0;31mValueError\u001b[0m                                Traceback (most recent call last)",
      "Cell \u001b[0;32mIn[4], line 13\u001b[0m\n\u001b[1;32m     11\u001b[0m \u001b[38;5;28;01mif\u001b[39;00m deproj \u001b[38;5;241m==\u001b[39m \u001b[38;5;28;01mTrue\u001b[39;00m:\n\u001b[1;32m     12\u001b[0m     Fitting_Deprojected(homeDir, ObsIDs, \u001b[38;5;124m'\u001b[39m\u001b[38;5;124mannulus_\u001b[39m\u001b[38;5;124m'\u001b[39m ,\u001b[38;5;28mint\u001b[39m(num_bins), redshift, n_H, \u001b[38;5;241m4.0\u001b[39m, Temp_data,homeDir\u001b[38;5;241m+\u001b[39m\u001b[38;5;124m'\u001b[39m\u001b[38;5;124m/regions/\u001b[39m\u001b[38;5;124m'\u001b[39m, \u001b[38;5;124m'\u001b[39m\u001b[38;5;124mannulus_\u001b[39m\u001b[38;5;124m'\u001b[39m, num_bins)\n\u001b[0;32m---> 13\u001b[0m     \u001b[43mplot_data\u001b[49m\u001b[43m(\u001b[49m\u001b[43mhomeDir\u001b[49m\u001b[38;5;241;43m+\u001b[39;49m\u001b[38;5;124;43m'\u001b[39;49m\u001b[38;5;124;43m/\u001b[39;49m\u001b[38;5;124;43m'\u001b[39;49m\u001b[38;5;241;43m+\u001b[39;49m\u001b[43mTemp_data\u001b[49m\u001b[38;5;241;43m.\u001b[39;49m\u001b[43msplit\u001b[49m\u001b[43m(\u001b[49m\u001b[38;5;124;43m'\u001b[39;49m\u001b[38;5;124;43m.\u001b[39;49m\u001b[38;5;124;43m'\u001b[39;49m\u001b[43m)\u001b[49m\u001b[43m[\u001b[49m\u001b[38;5;241;43m0\u001b[39;49m\u001b[43m]\u001b[49m\u001b[38;5;241;43m+\u001b[39;49m\u001b[38;5;124;43m'\u001b[39;49m\u001b[38;5;124;43m_deproj.txt\u001b[39;49m\u001b[38;5;124;43m'\u001b[39;49m\u001b[43m,\u001b[49m\u001b[43mhomeDir\u001b[49m\u001b[38;5;241;43m+\u001b[39;49m\u001b[38;5;124;43m'\u001b[39;49m\u001b[38;5;124;43m/regions/\u001b[39;49m\u001b[38;5;124;43m'\u001b[39;49m\u001b[43m,\u001b[49m\u001b[43m \u001b[49m\u001b[38;5;124;43m'\u001b[39;49m\u001b[38;5;124;43mannulus_\u001b[39;49m\u001b[38;5;124;43m'\u001b[39;49m\u001b[43m,\u001b[49m\u001b[43m \u001b[49m\u001b[43mnum_bins\u001b[49m\u001b[43m,\u001b[49m\u001b[43mbase\u001b[49m\u001b[43m,\u001b[49m\u001b[38;5;124;43m'\u001b[39;49m\u001b[38;5;124;43mdeproj\u001b[39;49m\u001b[38;5;124;43m'\u001b[39;49m\u001b[43m,\u001b[49m\u001b[43mredshift\u001b[49m\u001b[43m)\u001b[49m\n\u001b[1;32m     14\u001b[0m \u001b[38;5;28;01melse\u001b[39;00m:  \u001b[38;5;66;03m# Not Deprojected\u001b[39;00m\n\u001b[1;32m     15\u001b[0m     Fitting(homeDir ,ObsIDs, \u001b[38;5;124m'\u001b[39m\u001b[38;5;124mannulus_\u001b[39m\u001b[38;5;124m'\u001b[39m, \u001b[38;5;28mint\u001b[39m(num_bins), redshift, n_H, \u001b[38;5;241m4.0\u001b[39m, Temp_data, AGN\u001b[38;5;241m=\u001b[39m\u001b[38;5;241m0\u001b[39m)\n",
      "File \u001b[0;32m~/Documents/AstronomyTools/FittingPipeline/Plots.py:70\u001b[0m, in \u001b[0;36mplot_data\u001b[0;34m(temp_data, reg_dir, reg_file_prefix, num_bins, base_dir, outfile_ext, redshift)\u001b[0m\n\u001b[1;32m     68\u001b[0m \u001b[38;5;28mabs\u001b[39m\u001b[38;5;241m.\u001b[39mappend(\u001b[38;5;28mfloat\u001b[39m(line\u001b[38;5;241m.\u001b[39msplit(\u001b[38;5;124m\"\u001b[39m\u001b[38;5;124m \u001b[39m\u001b[38;5;124m\"\u001b[39m)[\u001b[38;5;241m4\u001b[39m]))\n\u001b[1;32m     69\u001b[0m abs_min\u001b[38;5;241m.\u001b[39mappend(\u001b[38;5;28mfloat\u001b[39m(line\u001b[38;5;241m.\u001b[39msplit(\u001b[38;5;124m\"\u001b[39m\u001b[38;5;124m \u001b[39m\u001b[38;5;124m\"\u001b[39m)[\u001b[38;5;241m4\u001b[39m])\u001b[38;5;241m-\u001b[39m\u001b[38;5;28mfloat\u001b[39m(line\u001b[38;5;241m.\u001b[39msplit(\u001b[38;5;124m\"\u001b[39m\u001b[38;5;124m \u001b[39m\u001b[38;5;124m\"\u001b[39m)[\u001b[38;5;241m5\u001b[39m]))\n\u001b[0;32m---> 70\u001b[0m abs_max\u001b[38;5;241m.\u001b[39mappend(\u001b[38;5;28;43mfloat\u001b[39;49m\u001b[43m(\u001b[49m\u001b[43mline\u001b[49m\u001b[38;5;241;43m.\u001b[39;49m\u001b[43msplit\u001b[49m\u001b[43m(\u001b[49m\u001b[38;5;124;43m\"\u001b[39;49m\u001b[38;5;124;43m \u001b[39;49m\u001b[38;5;124;43m\"\u001b[39;49m\u001b[43m)\u001b[49m\u001b[43m[\u001b[49m\u001b[38;5;241;43m6\u001b[39;49m\u001b[43m]\u001b[49m\u001b[43m)\u001b[49m\u001b[38;5;241m-\u001b[39m\u001b[38;5;28mfloat\u001b[39m(line\u001b[38;5;241m.\u001b[39msplit(\u001b[38;5;124m\"\u001b[39m\u001b[38;5;124m \u001b[39m\u001b[38;5;124m\"\u001b[39m)[\u001b[38;5;241m4\u001b[39m]))\n\u001b[1;32m     71\u001b[0m stat\u001b[38;5;241m.\u001b[39mappend(\u001b[38;5;28mfloat\u001b[39m(line\u001b[38;5;241m.\u001b[39msplit(\u001b[38;5;124m\"\u001b[39m\u001b[38;5;124m \u001b[39m\u001b[38;5;124m\"\u001b[39m)[\u001b[38;5;241m10\u001b[39m]))\n\u001b[1;32m     72\u001b[0m norm\u001b[38;5;241m.\u001b[39mappend(\u001b[38;5;28mfloat\u001b[39m(line\u001b[38;5;241m.\u001b[39msplit(\u001b[38;5;124m\"\u001b[39m\u001b[38;5;124m \u001b[39m\u001b[38;5;124m\"\u001b[39m)[\u001b[38;5;241m7\u001b[39m]))\n",
      "\u001b[0;31mValueError\u001b[0m: could not convert string to float: '\\n'"
     ]
    }
   ],
   "source": [
    "#-----------------------------------------------READ IN--------------------------------------------------#\n",
    "base = homeDir\n",
    "num_bins = int(numRegions)\n",
    "#----------------------------------------------------SPECTRA---------------------------------------------------#\n",
    "#for reg_file_ct in tqdm(np.arange(num_bins)):\n",
    "#    reg_file = 'annulus_'+str(reg_file_ct)\n",
    "#    main_extract(base, base+'/regions', ObsIDs, reg_file)  # For each region extract the spectra in each ObsID\n",
    "#-----------------------------------------------FIT SPECTRA-------------------------------------------#\n",
    "Temp_data = 'Temp_bin.txt'\n",
    "# Deprojection\n",
    "if deproj == True:\n",
    "    Fitting_Deprojected(homeDir, ObsIDs, 'annulus_' ,int(num_bins), redshift, n_H, 4.0, Temp_data,homeDir+'/regions/', 'annulus_', num_bins)\n",
    "    plot_data_deproj(homeDir+'/'+Temp_data.split('.')[0]+'_deproj.txt',homeDir+'/regions/', 'annulus_', num_bins,base,'deproj',redshift)\n",
    "else:  # Not Deprojected\n",
    "    Fitting(homeDir ,ObsIDs, 'annulus_', int(num_bins), redshift, n_H, 4.0, Temp_data, AGN=0)\n",
    "    plot_data(base+'/'+Temp_data, homeDir+'/regions/', 'annulus_', num_bins,base,'standard', redshift)"
   ]
  },
  {
   "cell_type": "code",
   "execution_count": null,
   "id": "174c4c58-8dd2-4131-ae5a-eb92832d0b36",
   "metadata": {},
   "outputs": [],
   "source": []
  }
 ],
 "metadata": {
  "kernelspec": {
   "display_name": "Python 3 (ipykernel)",
   "language": "python",
   "name": "python3"
  },
  "language_info": {
   "codemirror_mode": {
    "name": "ipython",
    "version": 3
   },
   "file_extension": ".py",
   "mimetype": "text/x-python",
   "name": "python",
   "nbconvert_exporter": "python",
   "pygments_lexer": "ipython3",
   "version": "3.11.8"
  }
 },
 "nbformat": 4,
 "nbformat_minor": 5
}
