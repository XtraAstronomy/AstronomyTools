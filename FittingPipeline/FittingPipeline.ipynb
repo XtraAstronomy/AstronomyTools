{
 "cells": [
  {
   "cell_type": "code",
   "execution_count": 1,
   "id": "da029c7b-3369-49fb-8e5b-f1917c35a7e1",
   "metadata": {},
   "outputs": [],
   "source": [
    "import os \n",
    "import sys\n",
    "from read_input import read_input_file\n",
    "from BreakAnnuli import break_annuli\n",
    "from Fits import Fitting\n",
    "from Fits_Deprojected import Fitting_Deprojected\n",
    "from Plots import plot_data, plot_data_deproj\n",
    "from diffuse_specextract_blank import main_extract\n",
    "from tqdm import tqdm\n",
    "import numpy as np"
   ]
  },
  {
   "cell_type": "code",
   "execution_count": 2,
   "id": "52f95ffb-0a93-4684-b928-55915c3c0ae8",
   "metadata": {},
   "outputs": [],
   "source": [
    "homeDir = '/home/crhea/Documents/PKS0745'  # Path to reprocessed directory\n",
    "ObsIDs = ['12881', '2427']  #,'1383','1509','2427','6103','12881']#,'19572','19573','19574','19574']  # List of ObsIDs\n",
    "#ObsIDs = ['2427']\n",
    "outputDir = homeDir  # Path to output directory\n",
    "regionFileName = 'cluster.reg'  # Name of ds9 region file\n",
    "numRegions = 10  # Number of regions you want to create\n",
    "deproj = False  # Boolean to calculate deprojected profiles,"
   ]
  },
  {
   "cell_type": "markdown",
   "id": "38d0ba94-1594-466a-ae2c-22f3ba104eb7",
   "metadata": {},
   "source": [
    "Now in your homeDir you will have your annuli regions! Finally we can make our fits after defining the rest of the parameters."
   ]
  },
  {
   "cell_type": "code",
   "execution_count": 3,
   "id": "0a4f6379-adc3-46cf-8bed-3ec1ffc4a1ef",
   "metadata": {},
   "outputs": [],
   "source": [
    "redshift = 0.1028\n",
    "n_H = 0.4028"
   ]
  },
  {
   "cell_type": "code",
   "execution_count": 4,
   "id": "3c23f5eb-390e-411a-8706-3771c237d135",
   "metadata": {},
   "outputs": [
    {
     "name": "stdout",
     "output_type": "stream",
     "text": [
      "Fitting model to spectrum number 1\n",
      "Reading APEC data from 3.0.9\n",
      "\n",
      "Fitting model to spectrum number 2\n",
      "Fitting model to spectrum number 3\n",
      "Fitting model to spectrum number 4\n",
      "Fitting model to spectrum number 5\n",
      "Fitting model to spectrum number 6\n",
      "Fitting model to spectrum number 7\n",
      "Fitting model to spectrum number 8\n",
      "Fitting model to spectrum number 9\n",
      "Fitting model to spectrum number 10\n"
     ]
    },
    {
     "data": {
      "text/plain": [
       "<Figure size 640x480 with 0 Axes>"
      ]
     },
     "metadata": {},
     "output_type": "display_data"
    }
   ],
   "source": [
    "#-----------------------------------------------READ IN--------------------------------------------------#\n",
    "num_bins = int(numRegions)\n",
    "#----------------------------------------------------SPECTRA---------------------------------------------------#\n",
    "#for reg_file_ct in tqdm(np.arange(num_bins)):\n",
    "#    reg_file = 'annulus_'+str(reg_file_ct)\n",
    "#    main_extract(base, base+'/regions', ObsIDs, reg_file)  # For each region extract the spectra in each ObsID\n",
    "#-----------------------------------------------FIT SPECTRA-------------------------------------------#\n",
    "Temp_data = 'Temp_bin.txt'\n",
    "# Deprojection\n",
    "if deproj == True:\n",
    "    Fitting_Deprojected(homeDir, ObsIDs, 'annulus_' ,int(num_bins), redshift, n_H, 4.0, Temp_data,homeDir+'/regions/', 'annulus_', num_bins)\n",
    "    plot_data_deproj(homeDir+'/'+Temp_data.split('.')[0]+'_deproj.txt',homeDir+'/regions/', 'annulus_', num_bins,homeDir,'deproj',redshift)\n",
    "else:  # Not Deprojected\n",
    "    Fitting(homeDir ,ObsIDs, 'annulus_', int(num_bins), redshift, n_H, 4.0, Temp_data, AGN=2)\n",
    "    plot_data(homeDir+'/'+Temp_data, homeDir+'/regions/', 'annulus_', num_bins,homeDir,'standard', redshift)"
   ]
  },
  {
   "cell_type": "code",
   "execution_count": null,
   "id": "174c4c58-8dd2-4131-ae5a-eb92832d0b36",
   "metadata": {},
   "outputs": [],
   "source": []
  }
 ],
 "metadata": {
  "kernelspec": {
   "display_name": "Python 3 (ipykernel)",
   "language": "python",
   "name": "python3"
  },
  "language_info": {
   "codemirror_mode": {
    "name": "ipython",
    "version": 3
   },
   "file_extension": ".py",
   "mimetype": "text/x-python",
   "name": "python",
   "nbconvert_exporter": "python",
   "pygments_lexer": "ipython3",
   "version": "3.1.undefined"
  }
 },
 "nbformat": 4,
 "nbformat_minor": 5
}
